{
 "cells": [
  {
   "cell_type": "code",
   "execution_count": 20,
   "metadata": {},
   "outputs": [],
   "source": [
    "# Import all Libraries Here\n",
    "\n",
    "import os\n",
    "import json\n",
    "import jnius_config"
   ]
  },
  {
   "cell_type": "code",
   "execution_count": 23,
   "metadata": {},
   "outputs": [
    {
     "name": "stdout",
     "output_type": "stream",
     "text": [
      "docs_query_jar_file_path E:\\Code\\OvGU\\Information Retrieval\\Search Result Clustering\\qdocs.jar\n"
     ]
    },
    {
     "ename": "ValueError",
     "evalue": "VM is already running, can't set classpath/options; VM started at  File \"c:\\Program Files\\Python310\\lib\\runpy.py\", line 196, in _run_module_as_main\n    return _run_code(code, main_globals, None,\n  File \"c:\\Program Files\\Python310\\lib\\runpy.py\", line 86, in _run_code\n    exec(code, run_globals)\n  File \"C:\\Users\\sinha\\AppData\\Roaming\\Python\\Python310\\site-packages\\ipykernel_launcher.py\", line 17, in <module>\n    app.launch_new_instance()\n  File \"C:\\Users\\sinha\\AppData\\Roaming\\Python\\Python310\\site-packages\\traitlets\\config\\application.py\", line 1077, in launch_instance\n    app.start()\n  File \"C:\\Users\\sinha\\AppData\\Roaming\\Python\\Python310\\site-packages\\ipykernel\\kernelapp.py\", line 701, in start\n    self.io_loop.start()\n  File \"C:\\Users\\sinha\\AppData\\Roaming\\Python\\Python310\\site-packages\\tornado\\platform\\asyncio.py\", line 205, in start\n    self.asyncio_loop.run_forever()\n  File \"c:\\Program Files\\Python310\\lib\\asyncio\\windows_events.py\", line 321, in run_forever\n    super().run_forever()\n  File \"c:\\Program Files\\Python310\\lib\\asyncio\\base_events.py\", line 603, in run_forever\n    self._run_once()\n  File \"c:\\Program Files\\Python310\\lib\\asyncio\\base_events.py\", line 1906, in _run_once\n    handle._run()\n  File \"c:\\Program Files\\Python310\\lib\\asyncio\\events.py\", line 80, in _run\n    self._context.run(self._callback, *self._args)\n  File \"C:\\Users\\sinha\\AppData\\Roaming\\Python\\Python310\\site-packages\\ipykernel\\kernelbase.py\", line 534, in dispatch_queue\n    await self.process_one()\n  File \"C:\\Users\\sinha\\AppData\\Roaming\\Python\\Python310\\site-packages\\ipykernel\\kernelbase.py\", line 523, in process_one\n    await dispatch(*args)\n  File \"C:\\Users\\sinha\\AppData\\Roaming\\Python\\Python310\\site-packages\\ipykernel\\kernelbase.py\", line 429, in dispatch_shell\n    await result\n  File \"C:\\Users\\sinha\\AppData\\Roaming\\Python\\Python310\\site-packages\\ipykernel\\kernelbase.py\", line 767, in execute_request\n    reply_content = await reply_content\n  File \"C:\\Users\\sinha\\AppData\\Roaming\\Python\\Python310\\site-packages\\ipykernel\\ipkernel.py\", line 429, in do_execute\n    res = shell.run_cell(\n  File \"C:\\Users\\sinha\\AppData\\Roaming\\Python\\Python310\\site-packages\\ipykernel\\zmqshell.py\", line 549, in run_cell\n    return super().run_cell(*args, **kwargs)\n  File \"C:\\Users\\sinha\\AppData\\Roaming\\Python\\Python310\\site-packages\\IPython\\core\\interactiveshell.py\", line 3051, in run_cell\n    result = self._run_cell(\n  File \"C:\\Users\\sinha\\AppData\\Roaming\\Python\\Python310\\site-packages\\IPython\\core\\interactiveshell.py\", line 3106, in _run_cell\n    result = runner(coro)\n  File \"C:\\Users\\sinha\\AppData\\Roaming\\Python\\Python310\\site-packages\\IPython\\core\\async_helpers.py\", line 129, in _pseudo_sync_runner\n    coro.send(None)\n  File \"C:\\Users\\sinha\\AppData\\Roaming\\Python\\Python310\\site-packages\\IPython\\core\\interactiveshell.py\", line 3311, in run_cell_async\n    has_raised = await self.run_ast_nodes(code_ast.body, cell_name,\n  File \"C:\\Users\\sinha\\AppData\\Roaming\\Python\\Python310\\site-packages\\IPython\\core\\interactiveshell.py\", line 3493, in run_ast_nodes\n    if await self.run_code(code, result, async_=asy):\n  File \"C:\\Users\\sinha\\AppData\\Roaming\\Python\\Python310\\site-packages\\IPython\\core\\interactiveshell.py\", line 3553, in run_code\n    exec(code_obj, self.user_global_ns, self.user_ns)\n  File \"C:\\Users\\sinha\\AppData\\Local\\Temp\\ipykernel_11088\\1085895846.py\", line 11, in <module>\n    from jnius import autoclass # Exception - import after setting classpath, else error\n  File \"<frozen importlib._bootstrap>\", line 1027, in _find_and_load\n  File \"<frozen importlib._bootstrap>\", line 1006, in _find_and_load_unlocked\n  File \"<frozen importlib._bootstrap>\", line 688, in _load_unlocked\n  File \"<frozen importlib._bootstrap_external>\", line 883, in exec_module\n  File \"<frozen importlib._bootstrap>\", line 241, in _call_with_frames_removed\n  File \"C:\\Users\\sinha\\AppData\\Roaming\\Python\\Python310\\site-packages\\jnius\\__init__.py\", line 34, in <module>\n    from .reflect import *  # noqa\n  File \"<frozen importlib._bootstrap>\", line 1027, in _find_and_load\n  File \"<frozen importlib._bootstrap>\", line 1006, in _find_and_load_unlocked\n  File \"<frozen importlib._bootstrap>\", line 688, in _load_unlocked\n  File \"<frozen importlib._bootstrap_external>\", line 883, in exec_module\n  File \"<frozen importlib._bootstrap>\", line 241, in _call_with_frames_removed\n  File \"C:\\Users\\sinha\\AppData\\Roaming\\Python\\Python310\\site-packages\\jnius\\reflect.py\", line 20, in <module>\n    class Class(with_metaclass(MetaJavaClass, JavaClass)):\n  File \"C:\\Users\\sinha\\AppData\\Roaming\\Python\\Python310\\site-packages\\six.py\", line 872, in __new__\n    return meta(name, resolved_bases, d)\n",
     "output_type": "error",
     "traceback": [
      "\u001b[1;31m---------------------------------------------------------------------------\u001b[0m",
      "\u001b[1;31mValueError\u001b[0m                                Traceback (most recent call last)",
      "Cell \u001b[1;32mIn[23], line 11\u001b[0m\n\u001b[0;32m      9\u001b[0m docs_query_jar_file_path \u001b[38;5;241m=\u001b[39m \u001b[38;5;124m\"\u001b[39m\u001b[38;5;124mE:\u001b[39m\u001b[38;5;124m\\\u001b[39m\u001b[38;5;124mCode\u001b[39m\u001b[38;5;124m\\\u001b[39m\u001b[38;5;124mOvGU\u001b[39m\u001b[38;5;124m\\\u001b[39m\u001b[38;5;124mInformation Retrieval\u001b[39m\u001b[38;5;124m\\\u001b[39m\u001b[38;5;124mSearch Result Clustering\u001b[39m\u001b[38;5;124m\\\u001b[39m\u001b[38;5;124mqdocs.jar\u001b[39m\u001b[38;5;124m\"\u001b[39m\n\u001b[0;32m     10\u001b[0m \u001b[38;5;28mprint\u001b[39m(\u001b[38;5;124m\"\u001b[39m\u001b[38;5;124mdocs_query_jar_file_path\u001b[39m\u001b[38;5;124m\"\u001b[39m,docs_query_jar_file_path)\n\u001b[1;32m---> 11\u001b[0m \u001b[43mjnius_config\u001b[49m\u001b[38;5;241;43m.\u001b[39;49m\u001b[43mset_classpath\u001b[49m\u001b[43m(\u001b[49m\u001b[43mdocs_query_jar_file_path\u001b[49m\u001b[43m)\u001b[49m\n",
      "File \u001b[1;32m~\\AppData\\Roaming\\Python\\Python310\\site-packages\\jnius_config.py:47\u001b[0m, in \u001b[0;36mset_classpath\u001b[1;34m(*path)\u001b[0m\n\u001b[0;32m     43\u001b[0m \u001b[38;5;28;01mdef\u001b[39;00m \u001b[38;5;21mset_classpath\u001b[39m(\u001b[38;5;241m*\u001b[39mpath):\n\u001b[0;32m     44\u001b[0m \u001b[38;5;250m    \u001b[39m\u001b[38;5;124;03m\"\"\"\u001b[39;00m\n\u001b[0;32m     45\u001b[0m \u001b[38;5;124;03m    Sets the classpath for the JVM to use. Replaces any existing classpath, overriding the CLASSPATH environment variable.\u001b[39;00m\n\u001b[0;32m     46\u001b[0m \u001b[38;5;124;03m    \"\"\"\u001b[39;00m\n\u001b[1;32m---> 47\u001b[0m     \u001b[43mcheck_vm_running\u001b[49m\u001b[43m(\u001b[49m\u001b[43m)\u001b[49m\n\u001b[0;32m     48\u001b[0m     \u001b[38;5;28;01mglobal\u001b[39;00m classpath\n\u001b[0;32m     49\u001b[0m     classpath \u001b[38;5;241m=\u001b[39m \u001b[38;5;28mlist\u001b[39m(path)\n",
      "File \u001b[1;32m~\\AppData\\Roaming\\Python\\Python310\\site-packages\\jnius_config.py:20\u001b[0m, in \u001b[0;36mcheck_vm_running\u001b[1;34m()\u001b[0m\n\u001b[0;32m     18\u001b[0m \u001b[38;5;250m\u001b[39m\u001b[38;5;124;03m\"\"\"Raises a ValueError if the VM is already running.\"\"\"\u001b[39;00m\n\u001b[0;32m     19\u001b[0m \u001b[38;5;28;01mif\u001b[39;00m vm_running:\n\u001b[1;32m---> 20\u001b[0m     \u001b[38;5;28;01mraise\u001b[39;00m \u001b[38;5;167;01mValueError\u001b[39;00m(\u001b[38;5;124m\"\u001b[39m\u001b[38;5;124mVM is already running, can\u001b[39m\u001b[38;5;124m'\u001b[39m\u001b[38;5;124mt set classpath/options; VM started at\u001b[39m\u001b[38;5;124m\"\u001b[39m \u001b[38;5;241m+\u001b[39m vm_started_at)\n",
      "\u001b[1;31mValueError\u001b[0m: VM is already running, can't set classpath/options; VM started at  File \"c:\\Program Files\\Python310\\lib\\runpy.py\", line 196, in _run_module_as_main\n    return _run_code(code, main_globals, None,\n  File \"c:\\Program Files\\Python310\\lib\\runpy.py\", line 86, in _run_code\n    exec(code, run_globals)\n  File \"C:\\Users\\sinha\\AppData\\Roaming\\Python\\Python310\\site-packages\\ipykernel_launcher.py\", line 17, in <module>\n    app.launch_new_instance()\n  File \"C:\\Users\\sinha\\AppData\\Roaming\\Python\\Python310\\site-packages\\traitlets\\config\\application.py\", line 1077, in launch_instance\n    app.start()\n  File \"C:\\Users\\sinha\\AppData\\Roaming\\Python\\Python310\\site-packages\\ipykernel\\kernelapp.py\", line 701, in start\n    self.io_loop.start()\n  File \"C:\\Users\\sinha\\AppData\\Roaming\\Python\\Python310\\site-packages\\tornado\\platform\\asyncio.py\", line 205, in start\n    self.asyncio_loop.run_forever()\n  File \"c:\\Program Files\\Python310\\lib\\asyncio\\windows_events.py\", line 321, in run_forever\n    super().run_forever()\n  File \"c:\\Program Files\\Python310\\lib\\asyncio\\base_events.py\", line 603, in run_forever\n    self._run_once()\n  File \"c:\\Program Files\\Python310\\lib\\asyncio\\base_events.py\", line 1906, in _run_once\n    handle._run()\n  File \"c:\\Program Files\\Python310\\lib\\asyncio\\events.py\", line 80, in _run\n    self._context.run(self._callback, *self._args)\n  File \"C:\\Users\\sinha\\AppData\\Roaming\\Python\\Python310\\site-packages\\ipykernel\\kernelbase.py\", line 534, in dispatch_queue\n    await self.process_one()\n  File \"C:\\Users\\sinha\\AppData\\Roaming\\Python\\Python310\\site-packages\\ipykernel\\kernelbase.py\", line 523, in process_one\n    await dispatch(*args)\n  File \"C:\\Users\\sinha\\AppData\\Roaming\\Python\\Python310\\site-packages\\ipykernel\\kernelbase.py\", line 429, in dispatch_shell\n    await result\n  File \"C:\\Users\\sinha\\AppData\\Roaming\\Python\\Python310\\site-packages\\ipykernel\\kernelbase.py\", line 767, in execute_request\n    reply_content = await reply_content\n  File \"C:\\Users\\sinha\\AppData\\Roaming\\Python\\Python310\\site-packages\\ipykernel\\ipkernel.py\", line 429, in do_execute\n    res = shell.run_cell(\n  File \"C:\\Users\\sinha\\AppData\\Roaming\\Python\\Python310\\site-packages\\ipykernel\\zmqshell.py\", line 549, in run_cell\n    return super().run_cell(*args, **kwargs)\n  File \"C:\\Users\\sinha\\AppData\\Roaming\\Python\\Python310\\site-packages\\IPython\\core\\interactiveshell.py\", line 3051, in run_cell\n    result = self._run_cell(\n  File \"C:\\Users\\sinha\\AppData\\Roaming\\Python\\Python310\\site-packages\\IPython\\core\\interactiveshell.py\", line 3106, in _run_cell\n    result = runner(coro)\n  File \"C:\\Users\\sinha\\AppData\\Roaming\\Python\\Python310\\site-packages\\IPython\\core\\async_helpers.py\", line 129, in _pseudo_sync_runner\n    coro.send(None)\n  File \"C:\\Users\\sinha\\AppData\\Roaming\\Python\\Python310\\site-packages\\IPython\\core\\interactiveshell.py\", line 3311, in run_cell_async\n    has_raised = await self.run_ast_nodes(code_ast.body, cell_name,\n  File \"C:\\Users\\sinha\\AppData\\Roaming\\Python\\Python310\\site-packages\\IPython\\core\\interactiveshell.py\", line 3493, in run_ast_nodes\n    if await self.run_code(code, result, async_=asy):\n  File \"C:\\Users\\sinha\\AppData\\Roaming\\Python\\Python310\\site-packages\\IPython\\core\\interactiveshell.py\", line 3553, in run_code\n    exec(code_obj, self.user_global_ns, self.user_ns)\n  File \"C:\\Users\\sinha\\AppData\\Local\\Temp\\ipykernel_11088\\1085895846.py\", line 11, in <module>\n    from jnius import autoclass # Exception - import after setting classpath, else error\n  File \"<frozen importlib._bootstrap>\", line 1027, in _find_and_load\n  File \"<frozen importlib._bootstrap>\", line 1006, in _find_and_load_unlocked\n  File \"<frozen importlib._bootstrap>\", line 688, in _load_unlocked\n  File \"<frozen importlib._bootstrap_external>\", line 883, in exec_module\n  File \"<frozen importlib._bootstrap>\", line 241, in _call_with_frames_removed\n  File \"C:\\Users\\sinha\\AppData\\Roaming\\Python\\Python310\\site-packages\\jnius\\__init__.py\", line 34, in <module>\n    from .reflect import *  # noqa\n  File \"<frozen importlib._bootstrap>\", line 1027, in _find_and_load\n  File \"<frozen importlib._bootstrap>\", line 1006, in _find_and_load_unlocked\n  File \"<frozen importlib._bootstrap>\", line 688, in _load_unlocked\n  File \"<frozen importlib._bootstrap_external>\", line 883, in exec_module\n  File \"<frozen importlib._bootstrap>\", line 241, in _call_with_frames_removed\n  File \"C:\\Users\\sinha\\AppData\\Roaming\\Python\\Python310\\site-packages\\jnius\\reflect.py\", line 20, in <module>\n    class Class(with_metaclass(MetaJavaClass, JavaClass)):\n  File \"C:\\Users\\sinha\\AppData\\Roaming\\Python\\Python310\\site-packages\\six.py\", line 872, in __new__\n    return meta(name, resolved_bases, d)\n"
     ]
    }
   ],
   "source": [
    "# Imp Constants\n",
    "docs_query_jar_file = \"qdocs.jar\"\n",
    "project_dir = \"E:\\Code\\OvGU\\Information Retrieval\\Search Result Clustering\"\n",
    "\n",
    "# Set cwd and jar path here\n",
    "#os.chdir(path=project_dir)\n",
    "#cwd = os.getcwd()\n",
    "#docs_query_jar_file_path = os.path.join(cwd, docs_query_jar_file)\n",
    "docs_query_jar_file_path = \"E:\\Code\\OvGU\\Information Retrieval\\Search Result Clustering\\Preprocessing\\qdocs.jar\"\n",
    "print(\"docs_query_jar_file_path\",docs_query_jar_file_path)\n",
    "jnius_config.set_classpath(docs_query_jar_file_path)"
   ]
  },
  {
   "cell_type": "code",
   "execution_count": 18,
   "metadata": {},
   "outputs": [],
   "source": [
    "from jnius import autoclass # Exception - import after setting classpath, else error"
   ]
  },
  {
   "cell_type": "code",
   "execution_count": 9,
   "metadata": {},
   "outputs": [
    {
     "ename": "JavaException",
     "evalue": "JVM exception occurred: org/apache/lucene/index/IndexReader java.lang.NoClassDefFoundError",
     "output_type": "error",
     "traceback": [
      "\u001b[1;31m---------------------------------------------------------------------------\u001b[0m",
      "\u001b[1;31mJavaException\u001b[0m                             Traceback (most recent call last)",
      "Cell \u001b[1;32mIn[9], line 2\u001b[0m\n\u001b[0;32m      1\u001b[0m \u001b[38;5;66;03m# Receiving query from user and calling java class function to retrieve relevant docs\u001b[39;00m\n\u001b[1;32m----> 2\u001b[0m QueryDocuments \u001b[38;5;241m=\u001b[39m \u001b[43mautoclass\u001b[49m\u001b[43m(\u001b[49m\u001b[38;5;124;43m\"\u001b[39;49m\u001b[38;5;124;43mQueryDocuments\u001b[39;49m\u001b[38;5;124;43m\"\u001b[39;49m\u001b[43m)\u001b[49m\n\u001b[0;32m      3\u001b[0m qDoc \u001b[38;5;241m=\u001b[39m QueryDocuments()\n\u001b[0;32m      5\u001b[0m \u001b[38;5;28;01mwhile\u001b[39;00m user_continue:\n",
      "File \u001b[1;32m~\\AppData\\Roaming\\Python\\Python310\\site-packages\\jnius\\reflect.py:211\u001b[0m, in \u001b[0;36mautoclass\u001b[1;34m(clsname, include_protected, include_private)\u001b[0m\n\u001b[0;32m    208\u001b[0m cls_start_packagename \u001b[38;5;241m=\u001b[39m \u001b[38;5;124m'\u001b[39m\u001b[38;5;124m.\u001b[39m\u001b[38;5;124m'\u001b[39m\u001b[38;5;241m.\u001b[39mjoin(clsname\u001b[38;5;241m.\u001b[39msplit(\u001b[38;5;124m'\u001b[39m\u001b[38;5;124m.\u001b[39m\u001b[38;5;124m'\u001b[39m)[:\u001b[38;5;241m-\u001b[39m\u001b[38;5;241m1\u001b[39m])\n\u001b[0;32m    210\u001b[0m \u001b[38;5;66;03m# c = Class.forName(clsname)\u001b[39;00m\n\u001b[1;32m--> 211\u001b[0m c \u001b[38;5;241m=\u001b[39m \u001b[43mfind_javaclass\u001b[49m\u001b[43m(\u001b[49m\u001b[43mclsname\u001b[49m\u001b[43m)\u001b[49m\n\u001b[0;32m    212\u001b[0m \u001b[38;5;28;01mif\u001b[39;00m c \u001b[38;5;129;01mis\u001b[39;00m \u001b[38;5;28;01mNone\u001b[39;00m:\n\u001b[0;32m    213\u001b[0m     \u001b[38;5;28;01mraise\u001b[39;00m \u001b[38;5;167;01mException\u001b[39;00m(\u001b[38;5;124m'\u001b[39m\u001b[38;5;124mJava class \u001b[39m\u001b[38;5;132;01m{0}\u001b[39;00m\u001b[38;5;124m not found\u001b[39m\u001b[38;5;124m'\u001b[39m\u001b[38;5;241m.\u001b[39mformat(c))\n",
      "File \u001b[1;32mjnius\\jnius_export_func.pxi:26\u001b[0m, in \u001b[0;36mjnius.find_javaclass\u001b[1;34m()\u001b[0m\n",
      "File \u001b[1;32mjnius\\jnius_utils.pxi:91\u001b[0m, in \u001b[0;36mjnius.check_exception\u001b[1;34m()\u001b[0m\n",
      "\u001b[1;31mJavaException\u001b[0m: JVM exception occurred: org/apache/lucene/index/IndexReader java.lang.NoClassDefFoundError"
     ]
    }
   ],
   "source": [
    "# Receiving query from user and calling java class function to retrieve relevant docs\n",
    "QueryDocuments = autoclass(\"QueryDocuments\")\n",
    "qDoc = QueryDocuments()\n",
    "\n",
    "while user_continue:\n",
    "    query = input(\"Enter Query: \")\n",
    "    no_of_results = int(input(\"No of results expected: \"))\n",
    "    json_result = qDoc.query(query, no_of_results)\n",
    "    result = json.loads(json_result)\n",
    "    for ri in result:\n",
    "        print(ri)\n",
    "    \n",
    "    user_continue = bool(input(\"Continue(True/False)?: \"))"
   ]
  },
  {
   "cell_type": "code",
   "execution_count": null,
   "metadata": {},
   "outputs": [],
   "source": []
  }
 ],
 "metadata": {
  "kernelspec": {
   "display_name": "Python 3",
   "language": "python",
   "name": "python3"
  },
  "language_info": {
   "codemirror_mode": {
    "name": "ipython",
    "version": 3
   },
   "file_extension": ".py",
   "mimetype": "text/x-python",
   "name": "python",
   "nbconvert_exporter": "python",
   "pygments_lexer": "ipython3",
   "version": "3.10.9"
  }
 },
 "nbformat": 4,
 "nbformat_minor": 2
}
