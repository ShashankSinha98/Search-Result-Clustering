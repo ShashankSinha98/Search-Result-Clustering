{
 "cells": [
  {
   "cell_type": "code",
   "execution_count": 1,
   "metadata": {},
   "outputs": [],
   "source": [
    "import pandas as pd\n",
    "from sklearn.feature_extraction.text import TfidfVectorizer\n",
    "from sklearn.metrics.pairwise import cosine_similarity\n",
    "from NltkPreprocessingSteps import NltkPreprocessingSteps\n",
    "import os\n",
    "from sklearn.cluster import KMeans"
   ]
  },
  {
   "cell_type": "code",
   "execution_count": 2,
   "metadata": {},
   "outputs": [
    {
     "name": "stdout",
     "output_type": "stream",
     "text": [
      "True True\n"
     ]
    }
   ],
   "source": [
    "# Load data from Excel sheet\n",
    "os.chdir(\"E:\\Code\\OvGU\\Information Retrieval\\Search Result Clustering\")\n",
    "preprocessed_doc_file_path = 'pre_processed docs with id.xlsx'  \n",
    "original_doc_file_path = \"big dataset input docs.xlsx\"\n",
    "preprocessed_doc_path_exist = os.path.exists(preprocessed_doc_file_path)\n",
    "original_doc_path_exits = os.path.exists(original_doc_file_path)\n",
    "\n",
    "print(preprocessed_doc_path_exist, original_doc_path_exits)"
   ]
  },
  {
   "cell_type": "code",
   "execution_count": 3,
   "metadata": {},
   "outputs": [
    {
     "data": {
      "text/html": [
       "<div>\n",
       "<style scoped>\n",
       "    .dataframe tbody tr th:only-of-type {\n",
       "        vertical-align: middle;\n",
       "    }\n",
       "\n",
       "    .dataframe tbody tr th {\n",
       "        vertical-align: top;\n",
       "    }\n",
       "\n",
       "    .dataframe thead th {\n",
       "        text-align: right;\n",
       "    }\n",
       "</style>\n",
       "<table border=\"1\" class=\"dataframe\">\n",
       "  <thead>\n",
       "    <tr style=\"text-align: right;\">\n",
       "      <th></th>\n",
       "      <th>doc_id</th>\n",
       "      <th>filenames</th>\n",
       "      <th>text</th>\n",
       "    </tr>\n",
       "  </thead>\n",
       "  <tbody>\n",
       "    <tr>\n",
       "      <th>0</th>\n",
       "      <td>1</td>\n",
       "      <td>Ab Shirin.txt</td>\n",
       "      <td>ab shirin abshirin persian b shyryn may refer ...</td>\n",
       "    </tr>\n",
       "    <tr>\n",
       "      <th>1</th>\n",
       "      <td>2</td>\n",
       "      <td>Abdullah Al Shami.txt</td>\n",
       "      <td>abdullah alshami arabic bdllh lshmy bear march...</td>\n",
       "    </tr>\n",
       "    <tr>\n",
       "      <th>2</th>\n",
       "      <td>3</td>\n",
       "      <td>Abdullah Al Shemali.txt</td>\n",
       "      <td>abdullah al shemali bear june kuwait city kuwa...</td>\n",
       "    </tr>\n",
       "    <tr>\n",
       "      <th>3</th>\n",
       "      <td>4</td>\n",
       "      <td>Abdullah Al Yahya.txt</td>\n",
       "      <td>abdullah al yahya arabic bd llh lyhy bear febr...</td>\n",
       "    </tr>\n",
       "    <tr>\n",
       "      <th>4</th>\n",
       "      <td>5</td>\n",
       "      <td>Abdullah Alawi.txt</td>\n",
       "      <td>abdullah alawi arabicbd llh lwy bear august qa...</td>\n",
       "    </tr>\n",
       "    <tr>\n",
       "      <th>...</th>\n",
       "      <td>...</td>\n",
       "      <td>...</td>\n",
       "      <td>...</td>\n",
       "    </tr>\n",
       "    <tr>\n",
       "      <th>1954</th>\n",
       "      <td>1955</td>\n",
       "      <td>Zwolle, Gelderland.txt</td>\n",
       "      <td>zwolle small village east netherlands locate m...</td>\n",
       "    </tr>\n",
       "    <tr>\n",
       "      <th>1955</th>\n",
       "      <td>1956</td>\n",
       "      <td>Zwolle, Louisiana.txt</td>\n",
       "      <td>zwolle zawallee small town sabine parish louis...</td>\n",
       "    </tr>\n",
       "    <tr>\n",
       "      <th>1956</th>\n",
       "      <td>1957</td>\n",
       "      <td>Zwolle.txt</td>\n",
       "      <td>zwolle dutch zvol listen city municipality nor...</td>\n",
       "    </tr>\n",
       "    <tr>\n",
       "      <th>1957</th>\n",
       "      <td>1958</td>\n",
       "      <td>Zwollerkerspel.txt</td>\n",
       "      <td>zwollerkerspel low saxon zwollerkarspel former...</td>\n",
       "    </tr>\n",
       "    <tr>\n",
       "      <th>1958</th>\n",
       "      <td>1959</td>\n",
       "      <td>Zwolnieni z Teorii.txt</td>\n",
       "      <td>zwolnieni z teorii internet platform create zw...</td>\n",
       "    </tr>\n",
       "  </tbody>\n",
       "</table>\n",
       "<p>1959 rows × 3 columns</p>\n",
       "</div>"
      ],
      "text/plain": [
       "      doc_id                filenames  \\\n",
       "0          1            Ab Shirin.txt   \n",
       "1          2    Abdullah Al Shami.txt   \n",
       "2          3  Abdullah Al Shemali.txt   \n",
       "3          4    Abdullah Al Yahya.txt   \n",
       "4          5       Abdullah Alawi.txt   \n",
       "...      ...                      ...   \n",
       "1954    1955   Zwolle, Gelderland.txt   \n",
       "1955    1956    Zwolle, Louisiana.txt   \n",
       "1956    1957               Zwolle.txt   \n",
       "1957    1958       Zwollerkerspel.txt   \n",
       "1958    1959   Zwolnieni z Teorii.txt   \n",
       "\n",
       "                                                   text  \n",
       "0     ab shirin abshirin persian b shyryn may refer ...  \n",
       "1     abdullah alshami arabic bdllh lshmy bear march...  \n",
       "2     abdullah al shemali bear june kuwait city kuwa...  \n",
       "3     abdullah al yahya arabic bd llh lyhy bear febr...  \n",
       "4     abdullah alawi arabicbd llh lwy bear august qa...  \n",
       "...                                                 ...  \n",
       "1954  zwolle small village east netherlands locate m...  \n",
       "1955  zwolle zawallee small town sabine parish louis...  \n",
       "1956  zwolle dutch zvol listen city municipality nor...  \n",
       "1957  zwollerkerspel low saxon zwollerkarspel former...  \n",
       "1958  zwolnieni z teorii internet platform create zw...  \n",
       "\n",
       "[1959 rows x 3 columns]"
      ]
     },
     "execution_count": 3,
     "metadata": {},
     "output_type": "execute_result"
    }
   ],
   "source": [
    "ppdoc_df = pd.read_excel(preprocessed_doc_file_path)\n",
    "odoc_df = pd.read_excel(original_doc_file_path)\n",
    "ppdoc_df"
   ]
  },
  {
   "cell_type": "code",
   "execution_count": 4,
   "metadata": {},
   "outputs": [
    {
     "data": {
      "text/html": [
       "<div>\n",
       "<style scoped>\n",
       "    .dataframe tbody tr th:only-of-type {\n",
       "        vertical-align: middle;\n",
       "    }\n",
       "\n",
       "    .dataframe tbody tr th {\n",
       "        vertical-align: top;\n",
       "    }\n",
       "\n",
       "    .dataframe thead th {\n",
       "        text-align: right;\n",
       "    }\n",
       "</style>\n",
       "<table border=\"1\" class=\"dataframe\">\n",
       "  <thead>\n",
       "    <tr style=\"text-align: right;\">\n",
       "      <th></th>\n",
       "      <th>doc_id</th>\n",
       "      <th>filenames</th>\n",
       "      <th>text</th>\n",
       "    </tr>\n",
       "  </thead>\n",
       "  <tbody>\n",
       "    <tr>\n",
       "      <th>0</th>\n",
       "      <td>-1</td>\n",
       "      <td>query</td>\n",
       "      <td>World Cup</td>\n",
       "    </tr>\n",
       "  </tbody>\n",
       "</table>\n",
       "</div>"
      ],
      "text/plain": [
       "   doc_id filenames       text\n",
       "0      -1     query  World Cup"
      ]
     },
     "execution_count": 4,
     "metadata": {},
     "output_type": "execute_result"
    }
   ],
   "source": [
    "# Accept query string from the user\n",
    "#query = input(\"Enter your query: \")\n",
    "query = \"World Cup\"\n",
    "query_dict = {\n",
    "    \"doc_id\":-1,\n",
    "    \"filenames\":\"query\",\n",
    "    \"text\": query\n",
    "}\n",
    "query_df = pd.DataFrame(query_dict, index=[0])\n",
    "query_df"
   ]
  },
  {
   "cell_type": "code",
   "execution_count": 5,
   "metadata": {},
   "outputs": [
    {
     "name": "stdout",
     "output_type": "stream",
     "text": [
      "resource corpora/wordnet not found. Downloading now...\n"
     ]
    },
    {
     "name": "stderr",
     "output_type": "stream",
     "text": [
      "[nltk_data] Downloading package wordnet to\n",
      "[nltk_data]     C:\\Users\\sinha\\AppData\\Roaming\\nltk_data...\n",
      "[nltk_data]   Package wordnet is already up-to-date!\n",
      "[nltk_data] Downloading package omw-1.4 to\n",
      "[nltk_data]     C:\\Users\\sinha\\AppData\\Roaming\\nltk_data...\n"
     ]
    },
    {
     "name": "stdout",
     "output_type": "stream",
     "text": [
      "resource corpora/omw-1.4 not found. Downloading now...\n"
     ]
    },
    {
     "name": "stderr",
     "output_type": "stream",
     "text": [
      "[nltk_data]   Package omw-1.4 is already up-to-date!\n"
     ]
    },
    {
     "name": "stdout",
     "output_type": "stream",
     "text": [
      "Executing remove_html_tags\n",
      "Executing replace_diacritics\n",
      "Executing expand_contractions\n",
      "Executing remove_numbers\n",
      "Executing remove_punctuations_except_periods\n",
      "Executing lemmatize\n",
      "Executing remove_double_spaces\n",
      "Executing remove_all_punctuations\n",
      "Executing remove_stopwords\n"
     ]
    }
   ],
   "source": [
    "txt_preproc = NltkPreprocessingSteps(query_df['text'])\n",
    "processed_query = \\\n",
    "            txt_preproc \\\n",
    "            .remove_html_tags()\\\n",
    "            .replace_diacritics()\\\n",
    "            .expand_contractions()\\\n",
    "            .remove_numbers()\\\n",
    "            .remove_punctuations_except_periods()\\\n",
    "            .lemmatize()\\\n",
    "            .remove_double_spaces()\\\n",
    "            .remove_all_punctuations()\\\n",
    "            .remove_stopwords()\\\n",
    "            .get_processed_text()"
   ]
  },
  {
   "cell_type": "code",
   "execution_count": 6,
   "metadata": {},
   "outputs": [
    {
     "name": "stdout",
     "output_type": "stream",
     "text": [
      "Prev:  (1959, 3)\n",
      "After:  (1960, 3)\n"
     ]
    },
    {
     "data": {
      "text/html": [
       "<div>\n",
       "<style scoped>\n",
       "    .dataframe tbody tr th:only-of-type {\n",
       "        vertical-align: middle;\n",
       "    }\n",
       "\n",
       "    .dataframe tbody tr th {\n",
       "        vertical-align: top;\n",
       "    }\n",
       "\n",
       "    .dataframe thead th {\n",
       "        text-align: right;\n",
       "    }\n",
       "</style>\n",
       "<table border=\"1\" class=\"dataframe\">\n",
       "  <thead>\n",
       "    <tr style=\"text-align: right;\">\n",
       "      <th></th>\n",
       "      <th>doc_id</th>\n",
       "      <th>filenames</th>\n",
       "      <th>text</th>\n",
       "    </tr>\n",
       "  </thead>\n",
       "  <tbody>\n",
       "    <tr>\n",
       "      <th>0</th>\n",
       "      <td>1</td>\n",
       "      <td>Ab Shirin.txt</td>\n",
       "      <td>ab shirin abshirin persian b shyryn may refer ...</td>\n",
       "    </tr>\n",
       "    <tr>\n",
       "      <th>1</th>\n",
       "      <td>2</td>\n",
       "      <td>Abdullah Al Shami.txt</td>\n",
       "      <td>abdullah alshami arabic bdllh lshmy bear march...</td>\n",
       "    </tr>\n",
       "    <tr>\n",
       "      <th>2</th>\n",
       "      <td>3</td>\n",
       "      <td>Abdullah Al Shemali.txt</td>\n",
       "      <td>abdullah al shemali bear june kuwait city kuwa...</td>\n",
       "    </tr>\n",
       "    <tr>\n",
       "      <th>3</th>\n",
       "      <td>4</td>\n",
       "      <td>Abdullah Al Yahya.txt</td>\n",
       "      <td>abdullah al yahya arabic bd llh lyhy bear febr...</td>\n",
       "    </tr>\n",
       "    <tr>\n",
       "      <th>4</th>\n",
       "      <td>5</td>\n",
       "      <td>Abdullah Alawi.txt</td>\n",
       "      <td>abdullah alawi arabicbd llh lwy bear august qa...</td>\n",
       "    </tr>\n",
       "    <tr>\n",
       "      <th>...</th>\n",
       "      <td>...</td>\n",
       "      <td>...</td>\n",
       "      <td>...</td>\n",
       "    </tr>\n",
       "    <tr>\n",
       "      <th>1955</th>\n",
       "      <td>1956</td>\n",
       "      <td>Zwolle, Louisiana.txt</td>\n",
       "      <td>zwolle zawallee small town sabine parish louis...</td>\n",
       "    </tr>\n",
       "    <tr>\n",
       "      <th>1956</th>\n",
       "      <td>1957</td>\n",
       "      <td>Zwolle.txt</td>\n",
       "      <td>zwolle dutch zvol listen city municipality nor...</td>\n",
       "    </tr>\n",
       "    <tr>\n",
       "      <th>1957</th>\n",
       "      <td>1958</td>\n",
       "      <td>Zwollerkerspel.txt</td>\n",
       "      <td>zwollerkerspel low saxon zwollerkarspel former...</td>\n",
       "    </tr>\n",
       "    <tr>\n",
       "      <th>1958</th>\n",
       "      <td>1959</td>\n",
       "      <td>Zwolnieni z Teorii.txt</td>\n",
       "      <td>zwolnieni z teorii internet platform create zw...</td>\n",
       "    </tr>\n",
       "    <tr>\n",
       "      <th>1959</th>\n",
       "      <td>-1</td>\n",
       "      <td>query</td>\n",
       "      <td>world cup</td>\n",
       "    </tr>\n",
       "  </tbody>\n",
       "</table>\n",
       "<p>1960 rows × 3 columns</p>\n",
       "</div>"
      ],
      "text/plain": [
       "      doc_id                filenames  \\\n",
       "0          1            Ab Shirin.txt   \n",
       "1          2    Abdullah Al Shami.txt   \n",
       "2          3  Abdullah Al Shemali.txt   \n",
       "3          4    Abdullah Al Yahya.txt   \n",
       "4          5       Abdullah Alawi.txt   \n",
       "...      ...                      ...   \n",
       "1955    1956    Zwolle, Louisiana.txt   \n",
       "1956    1957               Zwolle.txt   \n",
       "1957    1958       Zwollerkerspel.txt   \n",
       "1958    1959   Zwolnieni z Teorii.txt   \n",
       "1959      -1                    query   \n",
       "\n",
       "                                                   text  \n",
       "0     ab shirin abshirin persian b shyryn may refer ...  \n",
       "1     abdullah alshami arabic bdllh lshmy bear march...  \n",
       "2     abdullah al shemali bear june kuwait city kuwa...  \n",
       "3     abdullah al yahya arabic bd llh lyhy bear febr...  \n",
       "4     abdullah alawi arabicbd llh lwy bear august qa...  \n",
       "...                                                 ...  \n",
       "1955  zwolle zawallee small town sabine parish louis...  \n",
       "1956  zwolle dutch zvol listen city municipality nor...  \n",
       "1957  zwollerkerspel low saxon zwollerkarspel former...  \n",
       "1958  zwolnieni z teorii internet platform create zw...  \n",
       "1959                                          world cup  \n",
       "\n",
       "[1960 rows x 3 columns]"
      ]
     },
     "execution_count": 6,
     "metadata": {},
     "output_type": "execute_result"
    }
   ],
   "source": [
    "print(\"Prev: \",ppdoc_df.shape)\n",
    "ppdoc_df.loc[len(ppdoc_df.index)] = [-1, \"query\", processed_query[0]]\n",
    "print(\"After: \",ppdoc_df.shape)\n",
    "ppdoc_df"
   ]
  },
  {
   "cell_type": "code",
   "execution_count": 7,
   "metadata": {},
   "outputs": [],
   "source": [
    "# TF-IDF Vectorization\n",
    "tfidf_vectorizer = TfidfVectorizer()\n",
    "tfidf_matrix = tfidf_vectorizer.fit_transform(ppdoc_df[\"text\"])"
   ]
  },
  {
   "cell_type": "code",
   "execution_count": 8,
   "metadata": {},
   "outputs": [
    {
     "name": "stdout",
     "output_type": "stream",
     "text": [
      "(1960, 20297)\n",
      "  (0, 4297)\t0.8136733299898108\n",
      "  (0, 19918)\t0.581322382214286\n"
     ]
    }
   ],
   "source": [
    "print(tfidf_matrix.shape)\n",
    "print(tfidf_matrix[-1])"
   ]
  },
  {
   "cell_type": "code",
   "execution_count": 9,
   "metadata": {},
   "outputs": [
    {
     "data": {
      "text/html": [
       "<style>#sk-container-id-1 {color: black;}#sk-container-id-1 pre{padding: 0;}#sk-container-id-1 div.sk-toggleable {background-color: white;}#sk-container-id-1 label.sk-toggleable__label {cursor: pointer;display: block;width: 100%;margin-bottom: 0;padding: 0.3em;box-sizing: border-box;text-align: center;}#sk-container-id-1 label.sk-toggleable__label-arrow:before {content: \"▸\";float: left;margin-right: 0.25em;color: #696969;}#sk-container-id-1 label.sk-toggleable__label-arrow:hover:before {color: black;}#sk-container-id-1 div.sk-estimator:hover label.sk-toggleable__label-arrow:before {color: black;}#sk-container-id-1 div.sk-toggleable__content {max-height: 0;max-width: 0;overflow: hidden;text-align: left;background-color: #f0f8ff;}#sk-container-id-1 div.sk-toggleable__content pre {margin: 0.2em;color: black;border-radius: 0.25em;background-color: #f0f8ff;}#sk-container-id-1 input.sk-toggleable__control:checked~div.sk-toggleable__content {max-height: 200px;max-width: 100%;overflow: auto;}#sk-container-id-1 input.sk-toggleable__control:checked~label.sk-toggleable__label-arrow:before {content: \"▾\";}#sk-container-id-1 div.sk-estimator input.sk-toggleable__control:checked~label.sk-toggleable__label {background-color: #d4ebff;}#sk-container-id-1 div.sk-label input.sk-toggleable__control:checked~label.sk-toggleable__label {background-color: #d4ebff;}#sk-container-id-1 input.sk-hidden--visually {border: 0;clip: rect(1px 1px 1px 1px);clip: rect(1px, 1px, 1px, 1px);height: 1px;margin: -1px;overflow: hidden;padding: 0;position: absolute;width: 1px;}#sk-container-id-1 div.sk-estimator {font-family: monospace;background-color: #f0f8ff;border: 1px dotted black;border-radius: 0.25em;box-sizing: border-box;margin-bottom: 0.5em;}#sk-container-id-1 div.sk-estimator:hover {background-color: #d4ebff;}#sk-container-id-1 div.sk-parallel-item::after {content: \"\";width: 100%;border-bottom: 1px solid gray;flex-grow: 1;}#sk-container-id-1 div.sk-label:hover label.sk-toggleable__label {background-color: #d4ebff;}#sk-container-id-1 div.sk-serial::before {content: \"\";position: absolute;border-left: 1px solid gray;box-sizing: border-box;top: 0;bottom: 0;left: 50%;z-index: 0;}#sk-container-id-1 div.sk-serial {display: flex;flex-direction: column;align-items: center;background-color: white;padding-right: 0.2em;padding-left: 0.2em;position: relative;}#sk-container-id-1 div.sk-item {position: relative;z-index: 1;}#sk-container-id-1 div.sk-parallel {display: flex;align-items: stretch;justify-content: center;background-color: white;position: relative;}#sk-container-id-1 div.sk-item::before, #sk-container-id-1 div.sk-parallel-item::before {content: \"\";position: absolute;border-left: 1px solid gray;box-sizing: border-box;top: 0;bottom: 0;left: 50%;z-index: -1;}#sk-container-id-1 div.sk-parallel-item {display: flex;flex-direction: column;z-index: 1;position: relative;background-color: white;}#sk-container-id-1 div.sk-parallel-item:first-child::after {align-self: flex-end;width: 50%;}#sk-container-id-1 div.sk-parallel-item:last-child::after {align-self: flex-start;width: 50%;}#sk-container-id-1 div.sk-parallel-item:only-child::after {width: 0;}#sk-container-id-1 div.sk-dashed-wrapped {border: 1px dashed gray;margin: 0 0.4em 0.5em 0.4em;box-sizing: border-box;padding-bottom: 0.4em;background-color: white;}#sk-container-id-1 div.sk-label label {font-family: monospace;font-weight: bold;display: inline-block;line-height: 1.2em;}#sk-container-id-1 div.sk-label-container {text-align: center;}#sk-container-id-1 div.sk-container {/* jupyter's `normalize.less` sets `[hidden] { display: none; }` but bootstrap.min.css set `[hidden] { display: none !important; }` so we also need the `!important` here to be able to override the default hidden behavior on the sphinx rendered scikit-learn.org. See: https://github.com/scikit-learn/scikit-learn/issues/21755 */display: inline-block !important;position: relative;}#sk-container-id-1 div.sk-text-repr-fallback {display: none;}</style><div id=\"sk-container-id-1\" class=\"sk-top-container\"><div class=\"sk-text-repr-fallback\"><pre>KMeans(n_clusters=25, n_init=10)</pre><b>In a Jupyter environment, please rerun this cell to show the HTML representation or trust the notebook. <br />On GitHub, the HTML representation is unable to render, please try loading this page with nbviewer.org.</b></div><div class=\"sk-container\" hidden><div class=\"sk-item\"><div class=\"sk-estimator sk-toggleable\"><input class=\"sk-toggleable__control sk-hidden--visually\" id=\"sk-estimator-id-1\" type=\"checkbox\" checked><label for=\"sk-estimator-id-1\" class=\"sk-toggleable__label sk-toggleable__label-arrow\">KMeans</label><div class=\"sk-toggleable__content\"><pre>KMeans(n_clusters=25, n_init=10)</pre></div></div></div></div></div>"
      ],
      "text/plain": [
       "KMeans(n_clusters=25, n_init=10)"
      ]
     },
     "execution_count": 9,
     "metadata": {},
     "output_type": "execute_result"
    }
   ],
   "source": [
    "clustering_model = KMeans(n_clusters = 25, \n",
    "                          init = 'k-means++',\n",
    "                          max_iter = 300, n_init = 10)\n",
    "clustering_model.fit(tfidf_matrix)"
   ]
  },
  {
   "cell_type": "code",
   "execution_count": 10,
   "metadata": {},
   "outputs": [
    {
     "name": "stdout",
     "output_type": "stream",
     "text": [
      "Cluster 0: gene encode enzyme human protein sulfotransferase sulfate succinylcoa cytosolic sulf\n",
      "\n",
      "Cluster 1: film work series write direct novel star bear american book\n",
      "\n",
      "Cluster 2: comic marvel book artist captain spiderman series issue drug sight\n",
      "\n",
      "Cluster 3: may refer american bear january seidelmann miss serve michelle gas\n",
      "\n",
      "Cluster 4: football play league player team american bear baseball basketball professional\n",
      "\n",
      "Cluster 5: station railway line radio fm serve license train road rail\n",
      "\n",
      "Cluster 6: university college professor science academic law school study bear oxford\n",
      "\n",
      "Cluster 7: specie family genus moth find plant describe beetle endemic america\n",
      "\n",
      "Cluster 8: oriental company building church bank hall service mottram locate day\n",
      "\n",
      "Cluster 9: state district united municipality court region town peak elmenhorst village\n",
      "\n",
      "Cluster 10: play footballer bear midfielder professional rugby august defender league former\n",
      "\n",
      "Cluster 11: olympics summer compete event men medal win winter bear championship\n",
      "\n",
      "Cluster 12: river km mi tributary municipality northeast south village kilometre mountain\n",
      "\n",
      "Cluster 13: use also one know name form province motto mine city\n",
      "\n",
      "Cluster 14: politician party member assembly serve election indian legislative parliament bear\n",
      "\n",
      "Cluster 15: album release song single record music band studio chart singer\n",
      "\n",
      "Cluster 16: web page server user use application website presence content service\n",
      "\n",
      "Cluster 17: film surname television actress bear notable people festival american name\n",
      "\n",
      "Cluster 18: rural district population locality russia russian street selsoviet selo oblast\n",
      "\n",
      "Cluster 19: island motu atoll iti one park marquesas polynesia islet nui\n",
      "\n",
      "Cluster 20: school county house high crisp district oriel historic locate build\n",
      "\n",
      "Cluster 21: snail gastropod sea marine mollusk family mollusc specie pulmonate airbreathing\n",
      "\n",
      "Cluster 22: orient county census population state united iuka township community unincorporated\n",
      "\n",
      "Cluster 23: sri lanka division grama locate province colombo niladhari kirulapone pringles\n",
      "\n",
      "Cluster 24: club play league cup debut cricket rugby season world championship\n",
      "\n",
      "\n"
     ]
    }
   ],
   "source": [
    "sorted_centroids = clustering_model.cluster_centers_.argsort()[:, ::-1]\n",
    "terms = tfidf_vectorizer.get_feature_names_out() \n",
    "\n",
    "for i in range(25):\n",
    "        print(\"Cluster %d:\" % i, end='')\n",
    "        for ind in sorted_centroids[i, :10]:\n",
    "            print(' %s' % terms[ind], end='')\n",
    "        print()\n",
    "        print()\n",
    " \n",
    "print()"
   ]
  },
  {
   "cell_type": "code",
   "execution_count": 11,
   "metadata": {},
   "outputs": [],
   "source": [
    "res = []\n",
    "\n",
    "for i in range(tfidf_matrix.shape[0]-1):\n",
    "    sim = cosine_similarity(tfidf_matrix[i], tfidf_matrix[-1])\n",
    "    if sim > 0:\n",
    "        cluster_pred = clustering_model.predict(tfidf_matrix[i])\n",
    "        res.append([sim, odoc_df.loc[i], cluster_pred])\n",
    "    "
   ]
  },
  {
   "cell_type": "code",
   "execution_count": 12,
   "metadata": {},
   "outputs": [
    {
     "name": "stdout",
     "output_type": "stream",
     "text": [
      "Query:  World Cup\n",
      "\n",
      "Rank 1\n",
      "Sim:  [[0.3508111]] Cluster:  [4]\n",
      "File name:  Bob Storey.txt\n",
      "Doc:  Bob Storey is a former offensive and defensive back, and kick returner, who played four seasons in the Canadian Football League, winning 2 Grey Cups. He played 2 seasons and 28 games for the Hamilton Tiger-Cats, winning a Cup in 1967, and 2 seasons and 27 games for the Montreal Alouettes, winning another cup in 1970.\n",
      "His father was Red Storey, famed Canadian football player (and Grey Cup champion) and sportsman.\n",
      "\n",
      "Rank 2\n",
      "Sim:  [[0.34551797]] Cluster:  [24]\n",
      "File name:  Suranga Sampath.txt\n",
      "Doc:  Suranga Sampath is a Sri Lankan blind cricketer. He was part of the Sri Lankan team during the 2017 ICC World T20 for the Blind. In the 2017 Blind T20 World Cup, he was the top scorer throughout the tournament with an aggregate of 733 runs with an average of excess 150. He also scored 5 centuries during the tournament, the most by any player in a single Blind T20 World Cup series; thus becoming the only batsman to score 5 centuries in a single edition of a Blind T20 World Cup. He picked up 4 wickets during the tournament to be adjudged the man of the tournament.Suranga Sampath along with Ruwan Wasantha set the record for the highest ever partnership for any wicket in Blind T20I history as well as in Blind T20 World Cup history when they put on an unbeaten 334 runs for the first wicket in the 2017 Blind T20 World Cup. He was also named as a player in the dream team during the 2017 Blind T20 World Cup.Suranga Sampath was also named as the member of the Sri Lankan blind cricket team for the 2018 Blind Cricket World Cup. During the first match for Sri Lanka in the tournament against Australia he scored 130 which propelled the team score to 485/7 in 40 overs and played a key role in a massive victory by a margin of 303 runs.\n",
      "\n",
      "Rank 3\n",
      "Sim:  [[0.33132192]] Cluster:  [11]\n",
      "File name:  Rishat Shafikov.txt\n",
      "Doc:  Rishat Rimzovich Shafikov (Russian: Ришат Римзович Шафиков; born 23 January 1970) is a retired Russian race walker.\n",
      "He was born in Chelyabinsk. He won a bronze medal at the 1989 European Junior Championships. His best senior competition was at the 1996 Olympic Games, when he finished fifth in the |20 km race. He also finished seventh at the 1997 World Race Walking Cup, and placed lowly at the 1995 World Race Walking Cup (105th) and the 1999 World Race Walking Cup (68th).\n",
      "\n",
      "Rank 4\n",
      "Sim:  [[0.30479717]] Cluster:  [24]\n",
      "File name:  Motu Matu_u.txt\n",
      "Doc:  Motu Matu'u (born 30 April 1987) is a rugby union footballer who plays as a hooker for London Irish in Premiership Rugby. He previously played for Wellington Lions in the ITM Cup and for the Hurricanes in the Super Rugby. He attended Rongotai College in Wellington, which was also attended by Ma'a Nonu.\n",
      "He is 184 cm tall and weighs 108 kg.Matu'u is internationally capped by Samoa, of which his debut came of the bench against the United States during the 2015 World Rugby Pacific Nations Cup. He represented Samoa in the 2015 Rugby World Cup, and on 23 August 2019, he was named in Samoa's 34-man training squad for the 2019 Rugby World Cup, before being named in the final 31 on 31 August.On 17 March 2016, Matu'u signed for English club Gloucester Rugby in the Aviva Premiership on a long-term deal from the 2016-17 season. On 24 May 2018, Matu'u left Gloucester to join London Irish from their return in the RFU Championship.\n",
      "\n",
      "Rank 5\n",
      "Sim:  [[0.25186184]] Cluster:  [4]\n",
      "File name:  George McCabe.txt\n",
      "Doc:  George McCabe (born 13 March 1922, Sheffield, Yorkshire; died January 2001) was an English association football referee, who officiated at the 1966 World Cup and in an FA Cup Final. He became a Football League referee in 1954 and an international referee in 1960. Throughout his league career he sent off only three players. Outside football he was the director of a Sheffield engineering company.\n",
      "\n",
      "Rank 6\n",
      "Sim:  [[0.21429641]] Cluster:  [24]\n",
      "File name:  Russian Premier League Cup.txt\n",
      "Doc:  The Russian Premier League Cup was a football competition organized by Russian Premier League. This was a knockout competition for 16 teams of the Premier League. All ties, including the final, were two-legged. The winners of the Cup did not get any special bonuses (such as the participation the UEFA Cup), and the matches were played on the days reserved for national team fixtures. These two factors prevented most clubs from fielding their strongest teams, and matches were played by mixed or reserve teams. Consequently, the competition did not gain much popularity, and the first edition of 2003 became the last. FC Zenit Saint Petersburg won the only tournament, beating FC Chernomorets Novorossiysk in the final 5–2 on aggregate.\n",
      "\n",
      "Rank 7\n",
      "Sim:  [[0.19429472]] Cluster:  [24]\n",
      "File name:  Michelle Heyman.txt\n",
      "Doc:  Michelle Pearl Heyman (born 4 July 1988) is an Australian soccer player and commentator who currently plays for Canberra United in the W-League in Australia. She became the all-time record goalscorer in the W-League in March 2021, after scoring her 73rd goal. She has previously played for W-League teams Central Coast Mariners, Sydney FC, and Adelaide United as well as the Western New York Flash in the American National Women's Soccer League. Heyman has  represented Australia since 2010, playing at the 2014 AFC Women's Asian Cup, the 2015 FIFA Women's World Cup and the 2016 Summer Olympics. In May 2019 she retired from international football.\n",
      "\n",
      "Rank 8\n",
      "Sim:  [[0.19303245]] Cluster:  [4]\n",
      "File name:  Michelle González.txt\n",
      "Doc:  Michelle González (born 3 August 1989) is a Puerto Rican basketball player for Montañeras de Morovis and the Puerto Rican national team.She participated at the 2018 FIBA Women's Basketball World Cup.\n",
      "\n",
      "Rank 9\n",
      "Sim:  [[0.17686592]] Cluster:  [24]\n",
      "File name:  Gustavo Jorge.txt\n",
      "Doc:  Gustavo Martín Jorge (born Lomas de Zamora, 24 October 1971) is a former Argentine rugby union player and a current coach. He played as a wing.\n",
      "He played for Club Pucará and Club Atletico San Isidro in the Nacional de Clubes in Argentina. He returned to Club Pucará where he finished his player career in 2007/08.Jorge had 23 caps for Argentina, since his debut, at the 103-9 win over Brazil, at 8 October 1989, in Montevideo, for the South American Rugby Championship, when he was only 17 years old, making him the youngest ever player for the \"Pumas\". He scored 6 tries in that game. He scored 24 tries, 111 points on aggregate during his international career. He was called for the 1991 Rugby World Cup but he never played. His last game was at the 16-11 win over the United States, at 20 June 1994, in Buenos Aires, for the 1995 Rugby World Cup qualifyings. He was only 22 years old but did not play again for the \"Pumas\".\n",
      "He has been a coach for the youth categories at Club Pucará since his retirement.\n",
      "\n",
      "Rank 10\n",
      "Sim:  [[0.16687217]] Cluster:  [24]\n",
      "File name:  Oriel Park.txt\n",
      "Doc:  Oriel Park is a UEFA Category 2 football stadium located on the Carrickmacross Road in Dundalk, Ireland. The stadium is the home ground of Dundalk Football Club and is owned and operated by the club on land that has been leased from the Casey family since the mid 1930s.\n",
      "The ground has a capacity of 3,100 for European matches (i.e. 3,100 seats) and 4,500 for domestic games (i.e. with the remainder standing). Oriel Park's attendance record is an estimated 18,000, set in 1982 for Dundalk's European Cup Winners' Cup second round tie against Tottenham Hotspur F.C.\n",
      "\n",
      "{4: 3, 24: 6, 11: 1}\n"
     ]
    }
   ],
   "source": [
    "res.sort(key=lambda r: r[0], reverse=True)\n",
    "print(\"Query: \",query, end=\"\\n\\n\")\n",
    "cluster_dict = {}\n",
    "\n",
    "display_res_limit = 10 if len(res) > 10 else len(res)\n",
    "\n",
    "for x in range(display_res_limit):\n",
    "    print(\"Rank\",(x+1))\n",
    "    print(\"Sim: \",res[x][0], \"Cluster: \",res[x][2])\n",
    "    print(\"File name: \",res[x][1][\"filenames\"])\n",
    "    print(\"Doc: \", res[x][1][\"text\"], end=\"\\n\\n\")\n",
    "\n",
    "    # inc cluster count in dict\n",
    "    cluster_dict[res[x][2][0]]  = cluster_dict.get(res[x][2][0], 0) + 1\n",
    "\n",
    "print(cluster_dict)"
   ]
  },
  {
   "cell_type": "code",
   "execution_count": null,
   "metadata": {},
   "outputs": [],
   "source": []
  },
  {
   "cell_type": "code",
   "execution_count": null,
   "metadata": {},
   "outputs": [],
   "source": []
  },
  {
   "cell_type": "code",
   "execution_count": null,
   "metadata": {},
   "outputs": [],
   "source": []
  },
  {
   "cell_type": "code",
   "execution_count": null,
   "metadata": {},
   "outputs": [],
   "source": []
  },
  {
   "cell_type": "code",
   "execution_count": null,
   "metadata": {},
   "outputs": [],
   "source": []
  },
  {
   "cell_type": "code",
   "execution_count": null,
   "metadata": {},
   "outputs": [],
   "source": []
  },
  {
   "cell_type": "code",
   "execution_count": null,
   "metadata": {},
   "outputs": [],
   "source": []
  }
 ],
 "metadata": {
  "kernelspec": {
   "display_name": "Python 3",
   "language": "python",
   "name": "python3"
  },
  "language_info": {
   "codemirror_mode": {
    "name": "ipython",
    "version": 3
   },
   "file_extension": ".py",
   "mimetype": "text/x-python",
   "name": "python",
   "nbconvert_exporter": "python",
   "pygments_lexer": "ipython3",
   "version": "3.10.9"
  }
 },
 "nbformat": 4,
 "nbformat_minor": 2
}
